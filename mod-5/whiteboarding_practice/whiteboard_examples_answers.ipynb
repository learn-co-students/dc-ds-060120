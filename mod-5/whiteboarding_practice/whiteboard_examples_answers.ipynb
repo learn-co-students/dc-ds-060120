{
 "cells": [
  {
   "cell_type": "markdown",
   "metadata": {},
   "source": [
    "### Question 1"
   ]
  },
  {
   "cell_type": "markdown",
   "metadata": {},
   "source": [
    "If we list all the natural numbers below 10 that are multiples of 3 or 5, we get 3, 5, 6 and 9. The sum of these multiples is 23.\n",
    "\n",
    "Find the sum of all the multiples of 3 or 5 below 1000."
   ]
  },
  {
   "cell_type": "code",
   "execution_count": 3,
   "metadata": {},
   "outputs": [
    {
     "data": {
      "text/plain": [
       "233168"
      ]
     },
     "execution_count": 3,
     "metadata": {},
     "output_type": "execute_result"
    }
   ],
   "source": [
    "sum(i for i in range(1000) if (i % 3 == 0) or (i % 5 == 0))"
   ]
  },
  {
   "cell_type": "code",
   "execution_count": null,
   "metadata": {},
   "outputs": [],
   "source": [
    "#check:\n",
    "check = [i for i in range(1000) if (i % 3 == 0) or (i % 5 == 0)]\n",
    "\n",
    "check"
   ]
  },
  {
   "cell_type": "code",
   "execution_count": null,
   "metadata": {},
   "outputs": [],
   "source": [
    "sum(check)"
   ]
  },
  {
   "cell_type": "markdown",
   "metadata": {},
   "source": [
    "### Question 2 \n",
    "\n",
    "#### Yes, the most famous / ubiqutous whiteboarding question of them all"
   ]
  },
  {
   "cell_type": "markdown",
   "metadata": {},
   "source": [
    "Write a short program that prints each number from 1 to 100 on a new line. \n",
    "\n",
    "For each multiple of 3, print \"Fizz\" instead of the number. \n",
    "\n",
    "For each multiple of 5, print \"Buzz\" instead of the number. \n",
    "\n",
    "For numbers which are multiples of both 3 and 5, print \"FizzBuzz\" instead of the number."
   ]
  },
  {
   "cell_type": "code",
   "execution_count": 5,
   "metadata": {
    "collapsed": true,
    "jupyter": {
     "outputs_hidden": true
    }
   },
   "outputs": [
    {
     "name": "stdout",
     "output_type": "stream",
     "text": [
      "1\n",
      "2\n",
      "Fizz\n",
      "4\n",
      "Buzz\n",
      "Fizz\n",
      "7\n",
      "8\n",
      "Fizz\n",
      "Buzz\n",
      "11\n",
      "Fizz\n",
      "13\n",
      "14\n",
      "Fizzbuzz\n",
      "16\n",
      "17\n",
      "Fizz\n",
      "19\n",
      "Buzz\n",
      "Fizz\n",
      "22\n",
      "23\n",
      "Fizz\n",
      "Buzz\n",
      "26\n",
      "Fizz\n",
      "28\n",
      "29\n",
      "Fizzbuzz\n",
      "31\n",
      "32\n",
      "Fizz\n",
      "34\n",
      "Buzz\n",
      "Fizz\n",
      "37\n",
      "38\n",
      "Fizz\n",
      "Buzz\n",
      "41\n",
      "Fizz\n",
      "43\n",
      "44\n",
      "Fizzbuzz\n",
      "46\n",
      "47\n",
      "Fizz\n",
      "49\n",
      "Buzz\n",
      "Fizz\n",
      "52\n",
      "53\n",
      "Fizz\n",
      "Buzz\n",
      "56\n",
      "Fizz\n",
      "58\n",
      "59\n",
      "Fizzbuzz\n",
      "61\n",
      "62\n",
      "Fizz\n",
      "64\n",
      "Buzz\n",
      "Fizz\n",
      "67\n",
      "68\n",
      "Fizz\n",
      "Buzz\n",
      "71\n",
      "Fizz\n",
      "73\n",
      "74\n",
      "Fizzbuzz\n",
      "76\n",
      "77\n",
      "Fizz\n",
      "79\n",
      "Buzz\n",
      "Fizz\n",
      "82\n",
      "83\n",
      "Fizz\n",
      "Buzz\n",
      "86\n",
      "Fizz\n",
      "88\n",
      "89\n",
      "Fizzbuzz\n",
      "91\n",
      "92\n",
      "Fizz\n",
      "94\n",
      "Buzz\n",
      "Fizz\n",
      "97\n",
      "98\n",
      "Fizz\n",
      "Buzz\n"
     ]
    }
   ],
   "source": [
    "for i in range(1,101): \n",
    "    if i % 3 == 0 and i % 5 ==0:\n",
    "        print('Fizzbuzz')\n",
    "    elif i % 5 == 0:\n",
    "        print('Buzz')\n",
    "    elif i % 3== 0: \n",
    "        print('Fizz')\n",
    "    else:\n",
    "        print(i)"
   ]
  },
  {
   "cell_type": "markdown",
   "metadata": {},
   "source": [
    "### Question 3\n",
    "\n",
    "Write a function to check whether a particular word is a palindrome or not."
   ]
  },
  {
   "cell_type": "code",
   "execution_count": 1,
   "metadata": {},
   "outputs": [],
   "source": [
    "#first attempt\n",
    "\n",
    "def is_palindrome(word):\n",
    "    \n",
    "    letters = []\n",
    "    \n",
    "    for i in word:\n",
    "        letters.append(i)\n",
    "    \n",
    "    reversed_letters = []\n",
    "    \n",
    "    for l in letters:\n",
    "        reversed_letters.append(letters.pop())\n",
    "    \n",
    "    reversed_word = sum(reversed_letters)\n",
    "    \n",
    "    if word == reversed_word:\n",
    "        print(f\"{word} is a palindrome!\")\n",
    "        \n",
    "    else: \n",
    "        print(f\"{word} is not a palindrome!\")"
   ]
  },
  {
   "cell_type": "code",
   "execution_count": 3,
   "metadata": {},
   "outputs": [],
   "source": [
    "#second attempt\n",
    "\n",
    "def is_palindrome(word):\n",
    "    letters = []\n",
    "    for i in word:\n",
    "        letters.append(i)\n",
    "    \n",
    "    if letters[0] + letters[1] == letters[3] + letters[2]:\n",
    "        print(True)\n",
    "    else:\n",
    "        print(False)"
   ]
  },
  {
   "cell_type": "code",
   "execution_count": 4,
   "metadata": {},
   "outputs": [
    {
     "name": "stdout",
     "output_type": "stream",
     "text": [
      "False\n"
     ]
    }
   ],
   "source": [
    "is_palindrome('baby')"
   ]
  },
  {
   "cell_type": "code",
   "execution_count": 5,
   "metadata": {},
   "outputs": [
    {
     "name": "stdout",
     "output_type": "stream",
     "text": [
      "True\n"
     ]
    }
   ],
   "source": [
    "is_palindrome('alla')"
   ]
  },
  {
   "cell_type": "code",
   "execution_count": 23,
   "metadata": {},
   "outputs": [],
   "source": [
    "#answer\n",
    "\n",
    "def is_palindrome(word):\n",
    "    \n",
    "    letters = []\n",
    "    for i in word:\n",
    "        letters.append(i)\n",
    "        \n",
    "    reversed_list = letters[::-1]  \n",
    "    \n",
    "    if reversed_list == word:\n",
    "        print('yay')\n",
    "        \n",
    "    else:\n",
    "        print('boo')\n",
    "        \n",
    "    return"
   ]
  },
  {
   "cell_type": "markdown",
   "metadata": {},
   "source": [
    "### Question 4\n",
    "\n",
    "Write a query that returns the name of each department and a count of the number of employees in each. Below are the tables' schema:\n",
    "\n",
    "EMPLOYEES containing: Emp_ID (Primary key) and Emp_Name\n",
    "\n",
    "EMPLOYEE_DEPT containing: Emp_ID (Foreign key) and Dept_ID (Foreign key)\n",
    "\n",
    "DEPTS containing: Dept_ID (Primary key) and Dept_Name"
   ]
  },
  {
   "cell_type": "code",
   "execution_count": null,
   "metadata": {},
   "outputs": [],
   "source": [
    "SELECT * FROM DEPTS\n",
    "JOIN DEPTS WITH EPLOYEE_DEPT ON EMPLOYEE_DEPT.DEPT_ID, DEPTS.DEPT_ID\n",
    "COUNT()"
   ]
  },
  {
   "cell_type": "code",
   "execution_count": null,
   "metadata": {},
   "outputs": [],
   "source": [
    "Select Dept_name, count(Emp_ID)\n",
    "From DEPTS as d\n",
    "Join EMPLOYEE_DEPT as ed\n",
    "    ON d.DEPT_ED = ed.Dept_ID"
   ]
  },
  {
   "cell_type": "code",
   "execution_count": null,
   "metadata": {},
   "outputs": [],
   "source": [
    "### Question 4\n",
    "\n",
    "Turn an integer to a roman numeral:\n",
    "\n",
    "        val = [\n",
    "            1000, 900, 500, 400,\n",
    "            100, 90, 50, 40,\n",
    "            10, 9, 5, 4,\n",
    "            1\n",
    "            ]\n",
    "        syb = [\n",
    "            \"M\", \"CM\", \"D\", \"CD\",\n",
    "            \"C\", \"XC\", \"L\", \"XL\",\n",
    "            \"X\", \"IX\", \"V\", \"IV\",\n",
    "            \"I\"\n",
    "            ]"
   ]
  },
  {
   "cell_type": "code",
   "execution_count": null,
   "metadata": {},
   "outputs": [],
   "source": []
  },
  {
   "cell_type": "code",
   "execution_count": 15,
   "metadata": {},
   "outputs": [],
   "source": [
    "\n",
    "\n",
    "val = [\n",
    "            1000, 900, 500, 400,\n",
    "            100, 90, 50, 40,\n",
    "            10, 9, 5, 4,\n",
    "            1\n",
    "            ]\n",
    "syb = [\n",
    "            \"M\", \"CM\", \"D\", \"CD\",\n",
    "            \"C\", \"XC\", \"L\", \"XL\",\n",
    "            \"X\", \"IX\", \"V\", \"IV\",\n",
    "            \"I\"\n",
    "            ]\n",
    "\n",
    "#James work\n",
    "def roman_convert(n, syb=syb, val=val):\n",
    "    output_num=''\n",
    "    while n>0:\n",
    "        while n>=val[0]:\n",
    "            output_num=output_num+syb[0]\n",
    "            n=n-val[0]\n",
    "        val=val[1:]\n",
    "        syb=syb[1:]\n",
    "    return(output_num)\n",
    "\n",
    "#more pythonic\n",
    "def int_to_Roman(self, num):\n",
    "    roman_num = ''\n",
    "    i = 0\n",
    "    while  num > 0:\n",
    "        for _ in range(num // val[i]):\n",
    "            roman_num += syb[i]\n",
    "            num -= val[i]\n",
    "        i += 1\n",
    "    return roman_num"
   ]
  },
  {
   "cell_type": "code",
   "execution_count": 19,
   "metadata": {},
   "outputs": [
    {
     "data": {
      "text/plain": [
       "'DCCCLXXIX'"
      ]
     },
     "execution_count": 19,
     "metadata": {},
     "output_type": "execute_result"
    }
   ],
   "source": [
    "roman_convert(879)\n",
    "output_num = 'D', n=379 -> 'DC',n=279 ->'DCC', n=179"
   ]
  },
  {
   "cell_type": "markdown",
   "metadata": {},
   "source": [
    "### Question 5\n",
    "\n",
    "Consider that vowels in the alphabet are a, e, i, o, u and y. Function score_words takes a list of lowercase words as an argument and returns a score as follows:\n",
    "\n",
    "    The score of a single word is 2 if the word contains an even number of vowels.\n",
    "    \n",
    "    Otherwise, the score of this word is 1.\n",
    "    \n",
    "    The score for the whole list of words is the sum of scores of all words in the list."
   ]
  },
  {
   "cell_type": "code",
   "execution_count": null,
   "metadata": {},
   "outputs": [],
   "source": []
  },
  {
   "cell_type": "markdown",
   "metadata": {},
   "source": [
    "### Question 6\n",
    "\n",
    "The prime factors of 13195 are 5, 7, 13 and 29. \n",
    "\n",
    "What is the largest prime factor of the number 600851475143?"
   ]
  },
  {
   "cell_type": "code",
   "execution_count": null,
   "metadata": {},
   "outputs": [],
   "source": [
    "def is_prime(n): # Function returns True if n is prime, False if not. \n",
    "    for j in range(2,n+1):\n",
    "        if (n % j ==0 and j<n): # n is composite (not prime).\n",
    "            return False\n",
    "        else:\n",
    "            if n ==j: # all possible divisors checked. Number,n is prime.\n",
    "                return True\n",
    " \n",
    "num = 600851475143\n",
    "\n",
    "for n in range(3, int(round(num**.5))):\n",
    "    if n % 2 != 0: # Check only odd numbers for primes > 2.\n",
    "        if  num % n == 0: # If n is a factor of num..\n",
    "            if is_prime(n): # .. and n is prime ..\n",
    "               lpf = n # ... make n the largest prime factor.\n",
    "\n",
    "print (\"The largest prime factor of\", num, \"is\", lpf)"
   ]
  },
  {
   "cell_type": "markdown",
   "metadata": {},
   "source": [
    "### Question 7\n",
    "\n",
    "A palindromic number reads the same both ways. The largest palindrome made from the product of two 2-digit numbers is 9009 = 91 × 99.\n",
    "\n",
    "Find the largest palindrome made from the product of two 3-digit numbers.\n"
   ]
  },
  {
   "cell_type": "code",
   "execution_count": null,
   "metadata": {},
   "outputs": [],
   "source": []
  }
 ],
 "metadata": {
  "kernelspec": {
   "display_name": "Python 3",
   "language": "python",
   "name": "python3"
  },
  "language_info": {
   "codemirror_mode": {
    "name": "ipython",
    "version": 3
   },
   "file_extension": ".py",
   "mimetype": "text/x-python",
   "name": "python",
   "nbconvert_exporter": "python",
   "pygments_lexer": "ipython3",
   "version": "3.7.4"
  }
 },
 "nbformat": 4,
 "nbformat_minor": 4
}
