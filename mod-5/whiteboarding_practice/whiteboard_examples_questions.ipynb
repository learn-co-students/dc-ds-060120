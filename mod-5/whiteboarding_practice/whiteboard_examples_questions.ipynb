{
 "cells": [
  {
   "cell_type": "markdown",
   "metadata": {},
   "source": [
    "### Question 1"
   ]
  },
  {
   "cell_type": "markdown",
   "metadata": {},
   "source": [
    "If we list all the natural numbers below 10 that are multiples of 3 or 5, we get 3, 5, 6 and 9. The sum of these multiples is 23.\n",
    "\n",
    "Find the sum of all the multiples of 3 or 5 below 1000."
   ]
  },
  {
   "cell_type": "code",
   "execution_count": null,
   "metadata": {},
   "outputs": [],
   "source": []
  },
  {
   "cell_type": "markdown",
   "metadata": {},
   "source": [
    "### Question 2\n",
    "\n",
    "#### Yes, the most famous / ubiqutous whiteboarding question of them all\n",
    "\n",
    "Write a short program that prints each number from 1 to 100 on a new line. \n",
    "\n",
    "For each multiple of 3, print \"Fizz\" instead of the number. \n",
    "\n",
    "For each multiple of 5, print \"Buzz\" instead of the number. \n",
    "\n",
    "For numbers which are multiples of both 3 and 5, print \"FizzBuzz\" instead of the number."
   ]
  },
  {
   "cell_type": "code",
   "execution_count": null,
   "metadata": {},
   "outputs": [],
   "source": []
  },
  {
   "cell_type": "markdown",
   "metadata": {},
   "source": [
    "### Question 3\n",
    "\n",
    "Write a function to check whether a particular word is a palindrome"
   ]
  },
  {
   "cell_type": "code",
   "execution_count": null,
   "metadata": {},
   "outputs": [],
   "source": []
  },
  {
   "cell_type": "markdown",
   "metadata": {},
   "source": [
    "### Question 4\n",
    "\n",
    "Turn an integer to a roman numeral:\n",
    "\n",
    "        val = [\n",
    "            1000, 900, 500, 400,\n",
    "            100, 90, 50, 40,\n",
    "            10, 9, 5, 4,\n",
    "            1\n",
    "            ]\n",
    "        syb = [\n",
    "            \"M\", \"CM\", \"D\", \"CD\",\n",
    "            \"C\", \"XC\", \"L\", \"XL\",\n",
    "            \"X\", \"IX\", \"V\", \"IV\",\n",
    "            \"I\"\n",
    "            ]"
   ]
  },
  {
   "cell_type": "code",
   "execution_count": null,
   "metadata": {},
   "outputs": [],
   "source": []
  },
  {
   "cell_type": "markdown",
   "metadata": {},
   "source": [
    "### Question 5\n",
    "\n",
    "Consider that vowels in the alphabet are a, e, i, o, u and y. Function score_words takes a list of lowercase words as an argument and returns a score as follows:\n",
    "\n",
    "    The score of a single word is 2 if the word contains an even number of vowels.\n",
    "    \n",
    "    Otherwise, the score of this word is 1.\n",
    "    \n",
    "    The score for the whole list of words is the sum of scores of all words in the list./"
   ]
  },
  {
   "cell_type": "code",
   "execution_count": null,
   "metadata": {},
   "outputs": [],
   "source": []
  },
  {
   "cell_type": "markdown",
   "metadata": {},
   "source": [
    "### Question 6\n",
    "\n",
    "The prime factors of 13195 are 5, 7, 13 and 29. \n",
    "\n",
    "What is the largest prime factor of the number 600851475143?"
   ]
  },
  {
   "cell_type": "markdown",
   "metadata": {},
   "source": []
  },
  {
   "cell_type": "markdown",
   "metadata": {},
   "source": [
    "### Question 7"
   ]
  },
  {
   "cell_type": "markdown",
   "metadata": {},
   "source": [
    "A palindromic number reads the same both ways. The largest palindrome made from the product of two 2-digit numbers is 9009 = 91 × 99.\n",
    "\n",
    "Find the largest palindrome made from the product of two 3-digit numbers."
   ]
  },
  {
   "cell_type": "code",
   "execution_count": null,
   "metadata": {},
   "outputs": [],
   "source": []
  },
  {
   "cell_type": "markdown",
   "metadata": {},
   "source": [
    "### Question 8\n",
    "\n",
    "Given a string containing digits from 2-9 inclusive, return all possible letter combinations that the number could represent using phone layout. A mapping of digit to letters (just like on the telephone buttons) is given below. Note that 1 does not map to any letters.\n",
    "\n",
    " phones = {\n",
    "        \"2\": \"abc\",\n",
    "        \"3\": \"def\",\n",
    "        \"4\": \"ghi\",\n",
    "        \"5\": \"jkl\",\n",
    "        \"6\": \"mno\",\n",
    "        \"7\": \"pqrs\",\n",
    "        \"8\": \"tuv\",\n",
    "        \"9\": \"wxyz\",\n",
    "    }\n",
    "    \n",
    "\n",
    "#### Example \n",
    "\n",
    "Input: 45\n",
    "        \n",
    "        \n",
    "Output: gj gk gl hj hk hl ij ik il"
   ]
  },
  {
   "cell_type": "code",
   "execution_count": null,
   "metadata": {},
   "outputs": [],
   "source": []
  },
  {
   "cell_type": "markdown",
   "metadata": {},
   "source": [
    "### Question 9\n",
    "\n",
    "  Let’s say you have two SQL tables: authors and books. The authors dataset has 1M+ rows; here’s the first six rows:\n",
    "\n",
    "|Author_name|Book_name|\n",
    "| :---     |   :--- |\n",
    "| author_1 | book_1 |\n",
    "| author_1 | book_2 | \n",
    "| author_2 | book_3 | \n",
    "| author_2 | book_4 | \n",
    "| author_2 | book_5 | \n",
    "| author_3 | book_6 |\n",
    "\n",
    "\n",
    "The books dataset also has 1M+ rows and here’s the first six:\n",
    "\n",
    "|Book_name|Sold_copies|\n",
    "| :---   |   :--- |\n",
    "| book_1 | 1000  |\n",
    "| book_2 | 1500  |\n",
    "| book_3 | 34000 |\n",
    "| book_4 | 29000 |\n",
    "| book_5 | 40000 |\n",
    "| book_6 | 4400  |\n",
    " \n",
    "Create an SQL query that shows the TOP 3 authors who sold the most books in total."
   ]
  },
  {
   "cell_type": "code",
   "execution_count": null,
   "metadata": {},
   "outputs": [],
   "source": []
  }
 ],
 "metadata": {
  "kernelspec": {
   "display_name": "Python 3",
   "language": "python",
   "name": "python3"
  },
  "language_info": {
   "codemirror_mode": {
    "name": "ipython",
    "version": 3
   },
   "file_extension": ".py",
   "mimetype": "text/x-python",
   "name": "python",
   "nbconvert_exporter": "python",
   "pygments_lexer": "ipython3",
   "version": "3.7.4"
  }
 },
 "nbformat": 4,
 "nbformat_minor": 4
}
