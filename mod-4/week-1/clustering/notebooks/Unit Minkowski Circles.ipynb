{
 "cells": [
  {
   "cell_type": "markdown",
   "metadata": {},
   "source": [
    "# Distance Metrics"
   ]
  },
  {
   "cell_type": "markdown",
   "metadata": {},
   "source": [
    "There are lots of ways to calculate the distance between two points. The most familiar is the **Euclidean** metric, which is calculated in the familiar Pythagorean way: $\\sqrt{(x_1 - x_0)^2 + (y_1 - y_0)^2}$, but there are others.\n",
    "\n",
    "If we're driving a cab in Manhattan, then this metric may not be most useful. The shortest distance bewteen two points would be the Euclidean line _only if_ there were a street connecting them directly, whereas the more likely situation is that I can only travel along east-west streets and north-south streets. This **Manhattan** or **taxicab** metric is calculated like this: $|x_1 - x_0| + |y_1 - y_0|$.\n",
    "\n",
    "If we write the _Euclidean_ metric like: $((x_1 - x_0)^2 + (y_1 - y_0)^2)^{\\frac{1}{2}}$, then we can write the Manhattan metric like: $((x_1 - x_0)^1 + (y_1 - y_0)^1)^{\\frac{1}{1}}$, and this invites the following **Minkowski** generalization:\n",
    "\n",
    "$d_n = ((x_1 - x_0)^n + (y_1 - y_0)^n)^{\\frac{1}{n}}$, where we can let $n$ be any natural number.\n",
    "\n",
    "And if we calculate $lim_{n\\rightarrow\\infty}((x_1 - x_0)^n + (y_1 - y_0)^n)^{\\frac{1}{n}}$, we're working with the **Chebyshev** distance."
   ]
  },
  {
   "cell_type": "code",
   "execution_count": null,
   "metadata": {},
   "outputs": [],
   "source": [
    "from matplotlib import pyplot as plt\n",
    "import numpy as np\n",
    "\n",
    "X = np.linspace(-1, 1, 200)\n",
    "y0 = 1 - np.abs(X)            # This is the 'taxicab' metric\n",
    "y1 = (1 - X ** 2) ** 0.5      # This is Euclidean\n",
    "y2 = (1 - X ** 4) ** 0.25\n",
    "y3 = (1 - X ** 10) ** 0.1\n",
    "y4 = (1 - X ** 1000) ** 0.001\n",
    "#y5 = (1 - X ** 100000) ** 0.00001"
   ]
  },
  {
   "cell_type": "code",
   "execution_count": null,
   "metadata": {},
   "outputs": [],
   "source": [
    "# Let's plot these Unit Circles!\n",
    "\n",
    "plt.figure(figsize = (8, 8))\n",
    "plt.plot(X, y0, 'm')\n",
    "plt.plot(X, -y0, 'm')\n",
    "plt.plot(X, y1, 'b')\n",
    "plt.plot(X, -y1, 'b')\n",
    "plt.plot(X, y2, 'g')\n",
    "plt.plot(X, -y2, 'g')\n",
    "plt.plot(X, y3, 'y')\n",
    "plt.plot(X, -y3, 'y')\n",
    "plt.plot(X, y4, 'r')\n",
    "plt.plot(X, -y4, 'r');\n",
    "#plt.plot(X, y5)"
   ]
  },
  {
   "cell_type": "code",
   "execution_count": null,
   "metadata": {},
   "outputs": [],
   "source": []
  }
 ],
 "metadata": {
  "kernelspec": {
   "display_name": "Python 3",
   "language": "python",
   "name": "python3"
  },
  "language_info": {
   "codemirror_mode": {
    "name": "ipython",
    "version": 3
   },
   "file_extension": ".py",
   "mimetype": "text/x-python",
   "name": "python",
   "nbconvert_exporter": "python",
   "pygments_lexer": "ipython3",
   "version": "3.7.2"
  }
 },
 "nbformat": 4,
 "nbformat_minor": 2
}
