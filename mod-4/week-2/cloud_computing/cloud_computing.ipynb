{
 "cells": [
  {
   "cell_type": "markdown",
   "metadata": {},
   "source": [
    "# Cloud Computing\n",
    "![image](./image/cloud_PNG27.PNG)"
   ]
  },
  {
   "cell_type": "markdown",
   "metadata": {},
   "source": [
    "## Objectives:\n",
    "- define buckets, credentials, and regions in relation to AWS cloud computing services\n",
    "- create an S3 bucket through the AWS console\n",
    "- upload dats to our new S3 bucket\n",
    "- create a Jupyter Notebook Instance through Sagemaker\n",
    "- ensure Sagemaker can access S3 data\n",
    "- clone a git repository into your Sagemaker Jupyter Lab environment"
   ]
  },
  {
   "cell_type": "markdown",
   "metadata": {},
   "source": [
    "## Prework:\n",
    "- sign up for an AWS account\n",
    "- check your email for a confirmation email\n",
    "- click that email\n",
    "\n",
    "If you don't do that, you **_will not be able_** to do this material"
   ]
  },
  {
   "cell_type": "markdown",
   "metadata": {},
   "source": [
    "## **Cloud** computing is an **umbrella** term for many solutions\n",
    "\n",
    "<img src=\"./image/umbrella_PNG69231.PNG\" alt=\"brella\" style = \"width:200px\">"
   ]
  },
  {
   "cell_type": "markdown",
   "metadata": {},
   "source": [
    "## The common theme in cloud computing:\n",
    "### _Part_ of the solution is not located on premesis, but instead provided by an external _vendor_. \n",
    "\n",
    "\n",
    "<img src=\"https://images.pexels.com/photos/1181354/pexels-photo-1181354.jpeg?auto=compress&cs=tinysrgb&dpr=2&h=750&w=1260\" alt=\"server\" style = \"width:400px\">\n"
   ]
  },
  {
   "cell_type": "markdown",
   "metadata": {},
   "source": [
    "## Top three cloud services vendors:\n",
    "\n",
    "<img src=\"./image/cloud_providers.png\" alt=\"providers\" style = \"width:400px\">"
   ]
  },
  {
   "cell_type": "markdown",
   "metadata": {},
   "source": [
    "### Provides any of the following as a *service*: \n",
    "\n",
    "Can you think of examples of each?\n",
    "- Infrastructure (IaaS)\n",
    "- Software (SaaS)\n",
    "- Platforms (PaaS)\n",
    "\n",
    "![microsoft example](https://miro.medium.com/max/624/1*QmV2VDvgIquNx-Daxcdddw.png)\n",
    "\n",
    "[image sourced from here](https://medium.com/@kumarshivam_66534/a-walk-through-on-iaas-paas-and-saas-7e8a4e4793fb)"
   ]
  },
  {
   "cell_type": "markdown",
   "metadata": {},
   "source": [
    "### Solves many problems:\n",
    "\n",
    "- How can I keep my data secure yet accessible remotely?\n",
    "- How can I pay less for software licenses?\n",
    "- What if I need more server space in the future?\n",
    "- I have more data to analyze than can fit on my computer. What can I do?\n",
    "- My model has taken three days to run. Is there a faster way?"
   ]
  },
  {
   "cell_type": "markdown",
   "metadata": {},
   "source": [
    "## AWS can be intimidating\n",
    "\n",
    "<img src=\"./image/aws_offerings.png\" alt=\"offerings\" style = \"width:400px\">\n",
    "\n",
    "<img src='https://developerck.com/wp-content/uploads/2020/01/ai_ml.png' >"
   ]
  },
  {
   "cell_type": "markdown",
   "metadata": {},
   "source": [
    "### Focus on the last two questions:\n",
    "\n",
    "- How can I keep my data secure yet accessible remotely?\n",
    "- How can I pay less for software licenses?\n",
    "- What if I need more server space in the future?\n",
    "- **I have more data to analyze than can fit on my computer. What can I do?**\n",
    "- **My model has taken three days to run. Is there a faster way?**"
   ]
  },
  {
   "cell_type": "markdown",
   "metadata": {},
   "source": [
    "So we will only be using **S3**, **Sagemaker**, and **IAM**. \n",
    "\n",
    "<img src=\"./image/aws_focus.png\" alt=\"focus\" style = \"width:400px\">"
   ]
  },
  {
   "cell_type": "markdown",
   "metadata": {},
   "source": [
    "## Assumptions:\n",
    "\n",
    "- Working from a Jupyter notebook locally\n",
    "- Want to keep your analysis in a Jupyter notebook\n",
    "- Store your work on git as well\n",
    "- Not concerned about access or keeping data private\n",
    "- Want the easiest and fastest solution to getting our notebook in the cloud\n"
   ]
  },
  {
   "cell_type": "markdown",
   "metadata": {},
   "source": [
    "# Storage\n",
    "### Get your data to the cloud!"
   ]
  },
  {
   "cell_type": "markdown",
   "metadata": {},
   "source": [
    "### New vocab: Bucket\n",
    "\n",
    "<img src=\"https://pngimg.com/uploads/bucket/bucket_PNG7777.png\" alt=\"bucket\" style = \"text-align:left;width:200px;float:none\">"
   ]
  },
  {
   "cell_type": "markdown",
   "metadata": {},
   "source": [
    "#### Buckets defined\n",
    "\n",
    "[by PC Mag](https://www.pcmag.com/encyclopedia/term/bucket)\n",
    "\n",
    "> A customer-defined storage area in a cloud-based storage system such as Amazon's S3 or Google Storage. Each bucket can be divided into folders. Customers are not charged for the buckets themselves, only when data reside within them. See S3 cloud storage and Google Storage."
   ]
  },
  {
   "cell_type": "markdown",
   "metadata": {},
   "source": [
    "#### S3 stands for _Amazon Simple Storage Service_\n",
    "Amazon uses [S3 buckets](https://aws.amazon.com/s3/) for the most general form of object storage.\n",
    "\n",
    "<img src=\"https://i1.wp.com/2ninjas1blog.com/wp-content/uploads/2016/09/Screen-Shot-2016-09-19-at-10.45.16-AM.png?fit=1788%2C748\" alt=\"s3\" style =\"text-align:center;width:450px;float:none\" ></br>\n",
    "\n"
   ]
  },
  {
   "cell_type": "markdown",
   "metadata": {},
   "source": [
    "### New vocab: Credential\n",
    "\n",
    "![credentials](https://encrypted-tbn0.gstatic.com/images?q=tbn:ANd9GcRvaB5OvGWguYHBlVyagwofOP9kX0h5HqtbcIa02MyAVs_XS90McA&s)"
   ]
  },
  {
   "cell_type": "markdown",
   "metadata": {},
   "source": [
    "#### Credentials Defined:\n",
    "\n",
    "[From AWS](https://docs.aws.amazon.com/general/latest/gr/aws-security-credentials.html)\n",
    "\n",
    "> When you interact with AWS, you specify your AWS security credentials to verify who you are and whether you have permission to access the resources that you are requesting. AWS uses the security credentials to authenticate and authorize your requests.\n",
    "\n",
    ">For example, if you want to download a specific file from an Amazon Simple Storage Service (Amazon S3) bucket, your credentials must allow that access. If your credentials aren't authorized to download the file, AWS denies your request."
   ]
  },
  {
   "cell_type": "markdown",
   "metadata": {},
   "source": [
    "#### Our approach to credentials:\n",
    "\n",
    "Make everything public. </br>\n",
    "But we will still have to work with **IAM** a bit to make things talk to each other. \n",
    "\n",
    "<img src=\"data:image/png;base64,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\" alt=\"aws\" style =\"text-align:center;width:250px;float:none\" ></br>"
   ]
  },
  {
   "cell_type": "markdown",
   "metadata": {},
   "source": [
    "### New vocab: Region\n",
    "\n",
    "<img src=\"./image/aws_regions.png\" alt=\"aws_regions\" style =\"text-align:center;width:500px;float:none\" ></br>\n",
    "\n",
    "#### Regions Defined:\n",
    "[from AWS documentation](https://aws.amazon.com/about-aws/global-infrastructure/regions_az/):\n",
    ">AWS has the concept of a Region, which is a physical location around the world where we cluster data centers. We call each group of logical data centers an Availability Zone. Each AWS Region consists of multiple, isolated, and physically separate AZ's within a geographic area...\n",
    "\n",
    ">Each AZ has independent power, cooling, and physical security and is connected via redundant, ultra-low-latency networks. AWS customers focused on high availability can design their applications to run in multiple AZ's to achieve even greater fault-tolerance. AWS infrastructure Regions meet the highest levels of security, compliance, and data protection."
   ]
  },
  {
   "cell_type": "markdown",
   "metadata": {},
   "source": [
    "<img src=\"./image/aws_regions_facts.png\" alt=\"aws_regions\" style =\"text-align:center;width:500px;float:none\" ></br>"
   ]
  },
  {
   "cell_type": "markdown",
   "metadata": {},
   "source": [
    "#### Task:\n",
    "- go to the webiste where I sourced the regions map [https://aws.amazon.com/about-aws/global-infrastructure/](https://aws.amazon.com/about-aws/global-infrastructure/)\n",
    "- find the two newest AWS regions"
   ]
  },
  {
   "cell_type": "markdown",
   "metadata": {},
   "source": [
    "__Why do we care?__\n",
    "- Each time you create a new \"service\" in AWS, you need to define its region.\n",
    "- Each region is a separate geographic area and is completely independent\n",
    "- Each Amazon region is designed to be completely isolated from the other regions & helps achieve the greatest possible fault tolerance and stability\n",
    "- Communication between regions is across the public Internet and appropriate measures should be taken to protect the data using encryption\n",
    "- Data transfer between regions is charged at the Internet data transfer rate for both the sending and the receiving instance\n",
    "- Resources aren’t replicated across regions unless done explicitly"
   ]
  },
  {
   "cell_type": "markdown",
   "metadata": {},
   "source": [
    "Here are some real factors impacted by your choice of region:\n",
    "- Latency \n",
    "- Cost\n",
    "- Legal Compliance\n",
    "- Features "
   ]
  },
  {
   "cell_type": "markdown",
   "metadata": {},
   "source": [
    "**For these exercises:** </br>\n",
    "We are going to use the Northern Virgina region, identified as `us-east-1`"
   ]
  },
  {
   "cell_type": "markdown",
   "metadata": {},
   "source": [
    "## Getting  files into S3 via the AWS console\n",
    "(Will start here, will do it through code later)\n",
    "- have an amazon account\n",
    "- open s3\n",
    "- make buckets\n",
    "- upload files\n",
    "- set all permissions to open to the public"
   ]
  },
  {
   "cell_type": "markdown",
   "metadata": {},
   "source": [
    "#### **Tasks**:\n",
    "- Create bucket named something unique (eg `mm-fis060120-demo`)\n",
    "- Upload the `wine.csv` and the `carseats.csv` to that bucket\n",
    "- Make all things public\n",
    "- Send your url for `wine.csv` to a friend and have them import it using `pandas.read_csv()`"
   ]
  },
  {
   "cell_type": "markdown",
   "metadata": {},
   "source": [
    "## Amazon Sagemaker\n",
    "<img src=\"https://d2908q01vomqb2.cloudfront.net/77de68daecd823babbb58edb1c8e14d7106e83bb/2018/04/24/SageMaker.jpg\" alt=\"sagemaker\" style =\"text-align:center;width:250px;float:none\" ></br>\n",
    "\n",
    "Amazon Sagemaker includes many services, but we will only be using the [Amazon Sagemaker Notebook Instances](https://docs.aws.amazon.com/sagemaker/latest/dg/nbi.html)\n",
    "\n",
    ">An Amazon SageMaker notebook instance is a fully managed ML compute instance running the Jupyter Notebook App. Amazon SageMaker manages creating the instance and related resources. Use Jupyter notebooks in your notebook instance to prepare and process data, write code to train models, deploy models to Amazon SageMaker hosting, and test or validate your models.\n",
    "\n",
    "This means AWS creates _containerized_ environments on [_ec2_](https://aws.amazon.com/ec2/) instances from which you can launch higher powered Jupyter Notebooks."
   ]
  },
  {
   "cell_type": "markdown",
   "metadata": {},
   "source": [
    "## Setting up a Jupyter Notebook in Sagemaker\n",
    "- have an amazon account\n",
    "- ideally, have s3 buckets created first\n",
    "- find sagemaker in the offerings\n",
    "- create a notebook instance (you can only have two on this tier)\n",
    "- When setting it up, set up user profille permissions to have full access to Sagemaker AND S3 (ignore most other settings)\n",
    "- Wait for it to be created, will take a few minutes, should say \"pending\"\n",
    "- Open Jupyter Lab\n",
    "- Use git symbol above file directory to git clone a file into the environment\n",
    "- commit your work the same way you would with any other project\n",
    "- **TURN OFF THE RESOURCE WHEN DONE**"
   ]
  },
  {
   "cell_type": "markdown",
   "metadata": {},
   "source": [
    "#### **Tasks**:\n",
    "- go to Sagemaker within AWS\n",
    "- create a notebook instance\n",
    "- set user permissions to have access to Sagemaker & S3, wait for it to be created\n",
    "- go to github and create your own fork of this directory: https://github.com/learn-co-students/dsc-accessing-data-in-aws/\n",
    "- go back to your jupyterlab, use the git symbol to clone in your forked version of the the directory"
   ]
  },
  {
   "cell_type": "markdown",
   "metadata": {},
   "source": [
    "#### Pandas has a nice integration to read from S3 buckets\n",
    "\n",
    "Replace `ae-CLASS-demo`with the name of the bucket you created.<br>\n",
    "`data_key` is the full path to the file _within_ your bucket."
   ]
  },
  {
   "cell_type": "code",
   "execution_count": null,
   "metadata": {},
   "outputs": [],
   "source": [
    "!pip install s3fs"
   ]
  },
  {
   "cell_type": "code",
   "execution_count": null,
   "metadata": {},
   "outputs": [],
   "source": [
    "import pandas as pd\n",
    "from os import path\n",
    "\n",
    "bucket='ae-CLASS-demo'\n",
    "data_key = 'wine.csv'\n",
    "\n",
    "# this ONLY works because our data is public\n",
    "data_location = path.join('s3://', bucket, data_key)\n",
    "\n",
    "pd.read_csv(data_location)"
   ]
  },
  {
   "cell_type": "code",
   "execution_count": null,
   "metadata": {},
   "outputs": [],
   "source": [
    "import boto3\n",
    "s3 = boto3.resource('s3')\n",
    "obj = s3.Object(bucket, data_key)\n",
    "\n",
    "body = obj.get()['Body'].read()\n",
    "pd.read_csv(body)"
   ]
  }
 ],
 "metadata": {
  "kernelspec": {
   "display_name": "Python 3",
   "language": "python",
   "name": "python3"
  },
  "language_info": {
   "codemirror_mode": {
    "name": "ipython",
    "version": 3
   },
   "file_extension": ".py",
   "mimetype": "text/x-python",
   "name": "python",
   "nbconvert_exporter": "python",
   "pygments_lexer": "ipython3",
   "version": "3.7.3"
  },
  "toc": {
   "base_numbering": 1,
   "nav_menu": {},
   "number_sections": true,
   "sideBar": true,
   "skip_h1_title": false,
   "title_cell": "Table of Contents",
   "title_sidebar": "Contents",
   "toc_cell": false,
   "toc_position": {},
   "toc_section_display": true,
   "toc_window_display": false
  }
 },
 "nbformat": 4,
 "nbformat_minor": 4
}
